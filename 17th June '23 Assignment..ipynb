{
 "cells": [
  {
   "cell_type": "markdown",
   "id": "54ff9b74",
   "metadata": {},
   "source": [
    "# 1. What is the role of try and exception block?"
   ]
  },
  {
   "cell_type": "markdown",
   "id": "7f0988bf",
   "metadata": {},
   "source": [
    "The role of the try and except block in Python is to handle exceptions or errors that might occur while executing a piece of code. Here's how it works:\n",
    "\n",
    "try block: The code that might raise an exception is placed inside the try block. When the Python interpreter encounters an exception in this block, it immediately stops executing the block and proceeds to the nearest except block.\n",
    "\n",
    "except block: If an exception occurs in the try block, the Python interpreter looks for a matching except block. If it finds one with the appropriate exception type, it executes the code inside that except block. This way, the program can handle the exception gracefully instead of crashing.\n",
    "\n",
    "The try-except block helps prevent the program from terminating abruptly due to errors. It allows developers to anticipate potential issues and provide appropriate actions or error handling code, making the program more robust and user-friendly."
   ]
  },
  {
   "cell_type": "markdown",
   "id": "c42f573f",
   "metadata": {},
   "source": [
    "# 2. What is the syntax for a basic try-except block?"
   ]
  },
  {
   "cell_type": "code",
   "execution_count": null,
   "id": "5fe4b16d",
   "metadata": {},
   "outputs": [],
   "source": [
    "try:\n",
    "    # Code that might raise an exception\n",
    "    # ...\n",
    "    # ...\n",
    "except ExceptionType:\n",
    "    # Code to handle the exception\n",
    "    # ...\n",
    "    # ...\n"
   ]
  },
  {
   "cell_type": "markdown",
   "id": "31896550",
   "metadata": {},
   "source": [
    "Explanation:\n",
    "\n",
    "try: This keyword starts the try block. The code that you suspect might raise an exception is placed inside this block.\n",
    "\n",
    "except: This keyword starts the except block. If an exception of type ExceptionType (replace ExceptionType with the specific exception you want to catch) occurs within the try block, the code inside the except block will be executed."
   ]
  },
  {
   "cell_type": "code",
   "execution_count": 4,
   "id": "49dd7e4a",
   "metadata": {},
   "outputs": [
    {
     "name": "stdout",
     "output_type": "stream",
     "text": [
      "Enter a number: 10\n",
      "Result: 1.0\n"
     ]
    }
   ],
   "source": [
    "try:\n",
    "    number = int(input(\"Enter a number: \"))\n",
    "    result = 10 / number\n",
    "    print(\"Result:\", result)\n",
    "except ZeroDivisionError:\n",
    "    print(\"Error: Cannot divide by zero.\")\n",
    "except ValueError:\n",
    "    print(\"Error: Please enter a valid integer.\")\n"
   ]
  },
  {
   "cell_type": "markdown",
   "id": "632c6401",
   "metadata": {},
   "source": [
    "In this example, the code inside the try block takes user input, attempts to divide 10 by the input number, and then prints the result. If the user enters zero or a non-integer value, it will raise a ZeroDivisionError or ValueError, respectively. The corresponding except block will catch the specific exception and display an appropriate error message, preventing the program from crashing."
   ]
  },
  {
   "cell_type": "markdown",
   "id": "8ab089d5",
   "metadata": {},
   "source": [
    "# 3. What happens if an exception occurs inside a try block and there is no matching except block?"
   ]
  },
  {
   "cell_type": "markdown",
   "id": "8cda35c7",
   "metadata": {},
   "source": [
    "If an exception occurs inside a try block, and there is no matching except block to handle that specific exception, the program will terminate abruptly, and an error message known as a \"traceback\" will be displayed. \n",
    "\n",
    "This traceback shows the sequence of function calls that led to the unhandled exception, helping you identify the error's origin.\n",
    "\n",
    "The default behavior when an unhandled exception occurs is to stop the program's execution immediately and show the error message on the console. \n",
    "\n",
    "This can be problematic in production environments or user-facing applications, as it provides a poor user experience and might reveal sensitive information to the end-users.\n",
    "\n",
    "To prevent this, it's crucial to have appropriate error handling mechanisms in place using try-except blocks to catch and handle exceptions gracefully. \n",
    "\n",
    "By providing meaningful error messages and fallback actions, you can ensure that the program continues running smoothly even in the presence of errors. Always make sure to include a generic except block or handle the most common exceptions to avoid unhandled exceptions causing program crashes."
   ]
  },
  {
   "cell_type": "markdown",
   "id": "b86b0b1b",
   "metadata": {},
   "source": [
    "# 4. What is the difference between using a bare except block and specifying a specific exception type?"
   ]
  },
  {
   "cell_type": "markdown",
   "id": "2249ff82",
   "metadata": {},
   "source": [
    "The difference between using a bare (generic) except block and specifying a specific exception type lies in how they handle exceptions:\n",
    "\n",
    "Bare (Generic) Except Block:\n",
    "A bare except block catches all exceptions indiscriminately. It uses the syntax except: without specifying any specific exception type. While this approach might seem convenient, it is generally discouraged because it makes it difficult to determine the type of exception that occurred, leading to potential issues during debugging and maintenance. It can also hide potential bugs or unexpected issues, making it harder to diagnose problems in your code."
   ]
  },
  {
   "cell_type": "code",
   "execution_count": null,
   "id": "1f9fdc3e",
   "metadata": {},
   "outputs": [],
   "source": [
    "try:\n",
    "    # Some code that might raise an exception\n",
    "    # ...\n",
    "    # ...\n",
    "except:\n",
    "    # This is a bare except block\n",
    "    # It catches all exceptions, but it's not recommended to use it\n",
    "    # ...\n",
    "    # ...\n"
   ]
  },
  {
   "cell_type": "markdown",
   "id": "70f7e3cb",
   "metadata": {},
   "source": [
    "Specific Exception Type:\n",
    "Specifying a specific exception type in the except block allows you to catch only the specified type of exception. This approach is considered best practice because it allows you to handle different exceptions differently, providing more control over error handling and making your code more robust and maintainable."
   ]
  },
  {
   "cell_type": "code",
   "execution_count": null,
   "id": "ade3c3d8",
   "metadata": {},
   "outputs": [],
   "source": [
    "try:\n",
    "    # Some code that might raise an exception\n",
    "    # ...\n",
    "    # ...\n",
    "except ZeroDivisionError:\n",
    "    # This except block catches only the ZeroDivisionError\n",
    "    # Handle the specific exception here\n",
    "    # ...\n",
    "except ValueError:\n",
    "    # This except block catches only ValueErrors\n",
    "    # Handle ValueErrors here\n",
    "    # ...\n"
   ]
  },
  {
   "cell_type": "markdown",
   "id": "3e78efc3",
   "metadata": {},
   "source": [
    "it is better to use specific except blocks to handle different types of exceptions individually. This way, you can provide appropriate error handling for each specific case and avoid catching and suppressing unexpected exceptions that might lead to hidden bugs in your code."
   ]
  },
  {
   "cell_type": "markdown",
   "id": "147abbdc",
   "metadata": {},
   "source": [
    "# 5. Can you have nested try-except blocks in Python? If yes, then give an example."
   ]
  },
  {
   "cell_type": "markdown",
   "id": "d9d341a0",
   "metadata": {},
   "source": [
    "Yes, you can have nested try-except blocks in Python. This means you can place a try-except block inside another try block, allowing you to handle exceptions at different levels of code execution. \n",
    "\n",
    "Nested try-except blocks can be helpful when you want to handle exceptions more granularly and provide specific error handling for different parts of your code."
   ]
  },
  {
   "cell_type": "code",
   "execution_count": 5,
   "id": "f5139848",
   "metadata": {},
   "outputs": [
    {
     "name": "stdout",
     "output_type": "stream",
     "text": [
      "Error: Invalid data types for division.\n",
      "Error: Invalid data types for division.\n",
      "Error: Invalid data types for division.\n",
      "Error: Invalid data types for division.\n",
      "Error: Invalid data types for division.\n"
     ]
    }
   ],
   "source": [
    "def divide_numbers(a, b):\n",
    "    try:\n",
    "        result = a / b\n",
    "        print(\"Result:\", result)\n",
    "    except ZeroDivisionError:\n",
    "        print(\"Error: Cannot divide by zero.\")\n",
    "    except TypeError:\n",
    "        print(\"Error: Invalid data types for division.\")\n",
    "    except Exception as e:\n",
    "        print(\"Error:\", e)\n",
    "\n",
    "def process_data(data):\n",
    "    try:\n",
    "        for item in data:\n",
    "            divide_numbers(item, data[item])\n",
    "    except KeyError:\n",
    "        print(\"Error: Invalid data format. Key not found in data dictionary.\")\n",
    "\n",
    "try:\n",
    "    data = {\"A\": 10, \"B\": 5, \"C\": 0, \"D\": 20, \"E\": \"string\"}\n",
    "    process_data(data)\n",
    "except Exception as e:\n",
    "    print(\"An unexpected error occurred:\", e)\n"
   ]
  },
  {
   "cell_type": "markdown",
   "id": "87fef802",
   "metadata": {},
   "source": [
    "In this example, we have two functions: divide_numbers and process_data. The divide_numbers function performs division between two numbers, and the process_data function processes a dictionary containing data pairs (key-value) and calls the divide_numbers function to divide the keys' values.\n",
    "\n",
    "If a division by zero or a TypeError occurs within the divide_numbers function, the inner try-except block will handle the specific exception accordingly. If a KeyError occurs in the process_data function (for instance, if the dictionary doesn't have the expected key), the outer try-except block will handle that exception.\n",
    "\n",
    "By using nested try-except blocks, you can handle exceptions at different levels of your program's execution and provide more detailed and appropriate error handling for each specific scenario."
   ]
  },
  {
   "cell_type": "markdown",
   "id": "5476b41f",
   "metadata": {},
   "source": [
    "# 6. Can we use multiple exception blocks, if yes then give an example."
   ]
  },
  {
   "cell_type": "markdown",
   "id": "57ed2f1c",
   "metadata": {},
   "source": [
    "Yes, you can use multiple except blocks to handle different types of exceptions in Python. This allows you to catch and handle various exceptions separately, providing specific error handling for each type of exception."
   ]
  },
  {
   "cell_type": "code",
   "execution_count": 6,
   "id": "8fc413e3",
   "metadata": {},
   "outputs": [
    {
     "name": "stdout",
     "output_type": "stream",
     "text": [
      "Error: Cannot divide by zero.\n"
     ]
    }
   ],
   "source": [
    "def divide_numbers(a, b):\n",
    "    try:\n",
    "        result = a / b\n",
    "        print(\"Result:\", result)\n",
    "    except ZeroDivisionError:\n",
    "        print(\"Error: Cannot divide by zero.\")\n",
    "    except ValueError:\n",
    "        print(\"Error: Invalid value for division.\")\n",
    "    except TypeError:\n",
    "        print(\"Error: Invalid data types for division.\")\n",
    "    except Exception as e:\n",
    "        print(\"Error:\", e)\n",
    "\n",
    "try:\n",
    "    num1 = 10\n",
    "    num2 = 0\n",
    "    divide_numbers(num1, num2)\n",
    "except Exception as e:\n",
    "    print(\"An unexpected error occurred:\", e)\n"
   ]
  },
  {
   "cell_type": "markdown",
   "id": "38966915",
   "metadata": {},
   "source": [
    "In this example, the divide_numbers function takes two arguments a and b, and it attempts to divide a by b. However, we have multiple except blocks inside the try block to catch different types of exceptions that might occur during the division.\n",
    "\n",
    "If the division by zero (ZeroDivisionError) occurs, the first except ZeroDivisionError block will handle it. If the value provided for b is not a valid number (ValueError) or if the data types of a and b are not compatible for division (TypeError), the corresponding except blocks will handle those specific exceptions.\n",
    "\n",
    "Using multiple except blocks allows you to tailor the error handling based on the types of exceptions that can occur, providing more informative and meaningful messages to the user or developer about what went wrong in each case."
   ]
  },
  {
   "cell_type": "markdown",
   "id": "e5b32306",
   "metadata": {},
   "source": [
    "# 7. Write the reason due to which following errors are raised:\n",
    "a. EOFError\n",
    "b. FloatingPointError\n",
    "c. IndexError\n",
    "d. MemoryError\n",
    "e. OverflowError\n",
    "f. TabError\n",
    "g. ValueError"
   ]
  },
  {
   "cell_type": "markdown",
   "id": "0d7ab61c",
   "metadata": {},
   "source": [
    "a. EOFError:\n",
    "\n",
    "Reason: EOFError stands for \"End of File Error.\" It is raised when an input function (like input()) reaches the end of a file while trying to read user input. This can happen when the input is being read from a file and there's no more data to read.\n",
    "\n",
    "b. FloatingPointError:\n",
    "\n",
    "Reason: FloatingPointError is raised when a floating-point operation encounters an exceptional condition, such as division by zero or an overflow during mathematical operations with floating-point numbers.\n",
    "\n",
    "c. IndexError:\n",
    "\n",
    "Reason: IndexError occurs when you try to access an index of a sequence (like a list, tuple, or string) that is out of range or doesn't exist. For example, trying to access an index that is greater than the sequence's length or a negative index.\n",
    "\n",
    "d. MemoryError:\n",
    "\n",
    "Reason: MemoryError is raised when a program runs out of available memory (RAM) and cannot allocate more memory for its operations, such as when trying to create a large data structure or read a huge file into memory.\n",
    "\n",
    "e. OverflowError:\n",
    "\n",
    "Reason: OverflowError is raised when a calculation exceeds the maximum representable value for a numeric type. It occurs in situations where the result of an arithmetic operation is too large to be represented.\n",
    "\n",
    "f. TabError:\n",
    "\n",
    "Reason: TabError is raised when there is an issue with the indentation of code using tabs or spaces. In Python, consistent and correct indentation is crucial for code blocks, and mixing tabs and spaces or incorrect indentation can lead to this error.\n",
    "g. ValueError:\n",
    "\n",
    "Reason: ValueError is raised when a function receives an argument of the correct data type but an inappropriate value. For example, trying to convert a non-numeric string to an integer using int(), or passing an invalid argument to a function that expects specific input values.\n",
    "Understanding these error types can help you identify and handle exceptions appropriately, making your Python programs more robust and user-friendly."
   ]
  },
  {
   "cell_type": "markdown",
   "id": "c1fa1537",
   "metadata": {},
   "source": [
    "# 8. Write code for the following given scenario and add try-exception block to it.\n",
    "a. Program to divide two numbers b. Program to convert a string to an integer c. Program to access an element in a list d. Program to handle a specific exception e. Program to handle any exception"
   ]
  },
  {
   "cell_type": "markdown",
   "id": "eeaa6543",
   "metadata": {},
   "source": [
    "a. Program to divide two numbers:"
   ]
  },
  {
   "cell_type": "code",
   "execution_count": 7,
   "id": "4e8279de",
   "metadata": {},
   "outputs": [
    {
     "name": "stdout",
     "output_type": "stream",
     "text": [
      "Result: 5.0\n"
     ]
    }
   ],
   "source": [
    "def divide_numbers(a, b):\n",
    "    try:\n",
    "        result = a / b\n",
    "        print(\"Result:\", result)\n",
    "    except ZeroDivisionError:\n",
    "        print(\"Error: Cannot divide by zero.\")\n",
    "\n",
    "num1 = 10\n",
    "num2 = 2\n",
    "divide_numbers(num1, num2)\n"
   ]
  },
  {
   "cell_type": "markdown",
   "id": "27923ce0",
   "metadata": {},
   "source": [
    "b. Program to convert a string to an integer:"
   ]
  },
  {
   "cell_type": "code",
   "execution_count": 9,
   "id": "409e2e52",
   "metadata": {},
   "outputs": [
    {
     "name": "stdout",
     "output_type": "stream",
     "text": [
      "Enter a number: 2\n",
      "Integer: 2\n"
     ]
    }
   ],
   "source": [
    "def convert_to_integer(s):\n",
    "    try:\n",
    "        num = int(s)\n",
    "        print(\"Integer:\", num)\n",
    "    except ValueError:\n",
    "        print(\"Error: Invalid input. Please enter a valid integer.\")\n",
    "\n",
    "input_str = input(\"Enter a number: \")\n",
    "convert_to_integer(input_str)\n"
   ]
  },
  {
   "cell_type": "markdown",
   "id": "0d24b962",
   "metadata": {},
   "source": [
    "c. Program to access an element in a list:"
   ]
  },
  {
   "cell_type": "code",
   "execution_count": 10,
   "id": "5cf81a06",
   "metadata": {},
   "outputs": [
    {
     "name": "stdout",
     "output_type": "stream",
     "text": [
      "Value at index 4 : 50\n"
     ]
    }
   ],
   "source": [
    "def access_element(input_list, index):\n",
    "    try:\n",
    "        value = input_list[index]\n",
    "        print(\"Value at index\", index, \":\", value)\n",
    "    except IndexError:\n",
    "        print(\"Error: Index out of range. Please provide a valid index.\")\n",
    "\n",
    "my_list = [10, 20, 30, 40, 50]\n",
    "index_to_access = 4\n",
    "access_element(my_list, index_to_access)\n"
   ]
  },
  {
   "cell_type": "markdown",
   "id": "56a5ed8a",
   "metadata": {},
   "source": [
    "d. Program to handle a specific exception:"
   ]
  },
  {
   "cell_type": "code",
   "execution_count": 11,
   "id": "9d5a6f5b",
   "metadata": {},
   "outputs": [
    {
     "name": "stdout",
     "output_type": "stream",
     "text": [
      "Error: Cannot divide by zero. Handling the ZeroDivisionError.\n"
     ]
    }
   ],
   "source": [
    "def specific_exception_handling():\n",
    "    try:\n",
    "        x = 10 / 0\n",
    "        print(\"Result:\", x)\n",
    "    except ZeroDivisionError:\n",
    "        print(\"Error: Cannot divide by zero. Handling the ZeroDivisionError.\")\n",
    "\n",
    "specific_exception_handling()\n"
   ]
  },
  {
   "cell_type": "markdown",
   "id": "9b87140e",
   "metadata": {},
   "source": [
    "e. Program to handle any exception:"
   ]
  },
  {
   "cell_type": "code",
   "execution_count": 12,
   "id": "bb426af1",
   "metadata": {},
   "outputs": [
    {
     "name": "stdout",
     "output_type": "stream",
     "text": [
      "An unexpected error occurred: division by zero\n"
     ]
    }
   ],
   "source": [
    "def handle_any_exception():\n",
    "    try:\n",
    "        x = 10 / 0\n",
    "        print(\"Result:\", x)\n",
    "    except Exception as e:\n",
    "        print(\"An unexpected error occurred:\", e)\n",
    "\n",
    "handle_any_exception()\n"
   ]
  },
  {
   "cell_type": "markdown",
   "id": "bd4dbdcf",
   "metadata": {},
   "source": [
    "In these examples, the try-except blocks help catch and handle specific exceptions appropriately, preventing the program from crashing due to errors. It's important to use try-except blocks judiciously and provide meaningful error messages for a better user experience and easier debugging."
   ]
  },
  {
   "cell_type": "code",
   "execution_count": null,
   "id": "e71eb9fa",
   "metadata": {},
   "outputs": [],
   "source": []
  }
 ],
 "metadata": {
  "kernelspec": {
   "display_name": "Python 3 (ipykernel)",
   "language": "python",
   "name": "python3"
  },
  "language_info": {
   "codemirror_mode": {
    "name": "ipython",
    "version": 3
   },
   "file_extension": ".py",
   "mimetype": "text/x-python",
   "name": "python",
   "nbconvert_exporter": "python",
   "pygments_lexer": "ipython3",
   "version": "3.10.9"
  }
 },
 "nbformat": 4,
 "nbformat_minor": 5
}
